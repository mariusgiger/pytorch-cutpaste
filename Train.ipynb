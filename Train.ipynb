{
 "cells": [
  {
   "cell_type": "markdown",
   "id": "c9447691",
   "metadata": {},
   "source": [
    "## CutPaste"
   ]
  },
  {
   "cell_type": "code",
   "execution_count": 10,
   "id": "3aaf68ab",
   "metadata": {},
   "outputs": [],
   "source": [
    "!mkdir -p ./data/mvtec_anomaly_detection"
   ]
  },
  {
   "cell_type": "code",
   "execution_count": null,
   "id": "dd72e81b",
   "metadata": {},
   "outputs": [],
   "source": [
    "!curl -L https://www.mydrive.ch/shares/38536/3830184030e49fe74747669442f0f282/download/420938113-1629952094/mvtec_anomaly_detection.tar.xz > mvtec_anomaly_detection.tar.xz"
   ]
  },
  {
   "cell_type": "code",
   "execution_count": 11,
   "id": "884bd9c2",
   "metadata": {},
   "outputs": [],
   "source": [
    "!tar -xf mvtec_anomaly_detection.tar.xz -C ./data/mvtec_anomaly_detection"
   ]
  },
  {
   "cell_type": "code",
   "execution_count": 4,
   "id": "6b6d6899",
   "metadata": {},
   "outputs": [
    {
     "name": "stdout",
     "output_type": "stream",
     "text": [
      "Namespace(type='all', epochs=256, model_dir='models', pretrained=True, test_epochs=10, freeze_resnet=20, lr=0.03, optim='sgd', batch_size=64, head_layer=2, variant='3way', cuda=False, workers=8)\n",
      "using device: cpu\n",
      "training bottle\n",
      "loading images\n",
      "loaded 209 images\n",
      "  0%|                                                   | 0/256 [00:00<?, ?it/s]loading images\n",
      "loaded 209 images\n",
      "  4%|█▋                                        | 10/256 [02:34<49:51, 12.16s/it]loading images\n",
      "loaded 209 images\n",
      "  8%|███▎                                      | 20/256 [04:49<45:20, 11.53s/it]loading images\n",
      "loaded 209 images\n",
      " 11%|████▍                                   | 28/256 [09:36<2:03:20, 32.46s/it]^C\n"
     ]
    }
   ],
   "source": [
    "!python run_training.py --model_dir models --head_layer 2"
   ]
  },
  {
   "cell_type": "code",
   "execution_count": null,
   "id": "6b315f51",
   "metadata": {},
   "outputs": [],
   "source": [
    "python eval.py --model_dir models --head_layer 2"
   ]
  },
  {
   "cell_type": "markdown",
   "id": "c8b9a93e",
   "metadata": {},
   "source": [
    "## Links\n",
    "\n",
    "- https://www.mvtec.com/company/research/datasets/mvtec-ad\n",
    "- https://github.com/Runinho/pytorch-cutpaste"
   ]
  },
  {
   "cell_type": "code",
   "execution_count": null,
   "id": "8d358c6e",
   "metadata": {},
   "outputs": [],
   "source": []
  }
 ],
 "metadata": {
  "kernelspec": {
   "display_name": "Python (cutpaste)",
   "language": "python",
   "name": "cutpaste"
  },
  "language_info": {
   "codemirror_mode": {
    "name": "ipython",
    "version": 3
   },
   "file_extension": ".py",
   "mimetype": "text/x-python",
   "name": "python",
   "nbconvert_exporter": "python",
   "pygments_lexer": "ipython3",
   "version": "3.9.7"
  }
 },
 "nbformat": 4,
 "nbformat_minor": 5
}
