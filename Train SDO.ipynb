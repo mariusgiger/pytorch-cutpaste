{
  "cells": [
    {
      "cell_type": "markdown",
      "id": "c9447691",
      "metadata": {
        "id": "c9447691"
      },
      "source": [
        "## CutPaste"
      ]
    },
    {
      "cell_type": "code",
      "execution_count": 3,
      "id": "TDWBbAn0Ebh5",
      "metadata": {
        "colab": {
          "base_uri": "https://localhost:8080/"
        },
        "id": "TDWBbAn0Ebh5",
        "outputId": "66a19be3-2260-4b9b-d922-c135e436adc6"
      },
      "outputs": [
        {
          "output_type": "stream",
          "name": "stdout",
          "text": [
            "Cloning into 'pytorch-cutpaste'...\n",
            "remote: Enumerating objects: 224, done.\u001b[K\n",
            "remote: Counting objects: 100% (224/224), done.\u001b[K\n",
            "remote: Compressing objects: 100% (133/133), done.\u001b[K\n",
            "remote: Total 224 (delta 107), reused 196 (delta 82), pack-reused 0\u001b[K\n",
            "Receiving objects: 100% (224/224), 840.82 KiB | 1.64 MiB/s, done.\n",
            "Resolving deltas: 100% (107/107), done.\n"
          ]
        }
      ],
      "source": [
        "!git clone -b master 'https://github.com/mariusgiger/pytorch-cutpaste.git'"
      ]
    },
    {
      "cell_type": "code",
      "execution_count": 4,
      "id": "aEXJdgLSEvgn",
      "metadata": {
        "colab": {
          "base_uri": "https://localhost:8080/"
        },
        "id": "aEXJdgLSEvgn",
        "outputId": "7f1676bc-c6a9-4e75-9e2b-a2ad30021e02"
      },
      "outputs": [
        {
          "output_type": "stream",
          "name": "stdout",
          "text": [
            "/content/pytorch-cutpaste\n"
          ]
        }
      ],
      "source": [
        "cd pytorch-cutpaste/"
      ]
    },
    {
      "cell_type": "code",
      "source": [
        "from google.colab import drive\n",
        "drive.mount('/content/drive')"
      ],
      "metadata": {
        "colab": {
          "base_uri": "https://localhost:8080/"
        },
        "id": "vrc6_OGZBG6e",
        "outputId": "75eea75e-fdaf-461e-a6ed-b09473d1f1b4"
      },
      "id": "vrc6_OGZBG6e",
      "execution_count": 2,
      "outputs": [
        {
          "output_type": "stream",
          "name": "stdout",
          "text": [
            "Mounted at /content/drive\n"
          ]
        }
      ]
    },
    {
      "cell_type": "code",
      "source": [
        "!git pull"
      ],
      "metadata": {
        "colab": {
          "base_uri": "https://localhost:8080/"
        },
        "id": "3XpA63QkDGEB",
        "outputId": "f0bec85b-6aa4-457c-ad7f-647773606ed8"
      },
      "id": "3XpA63QkDGEB",
      "execution_count": 1,
      "outputs": [
        {
          "output_type": "stream",
          "name": "stdout",
          "text": [
            "fatal: not a git repository (or any of the parent directories): .git\n"
          ]
        }
      ]
    },
    {
      "cell_type": "code",
      "source": [
        "!pip install wandb -qqq\n",
        "import wandb"
      ],
      "metadata": {
        "colab": {
          "base_uri": "https://localhost:8080/"
        },
        "id": "R909FCyrI7MM",
        "outputId": "2815f7ec-34c3-4e83-f9f4-d02bfe5acf86"
      },
      "id": "R909FCyrI7MM",
      "execution_count": 5,
      "outputs": [
        {
          "output_type": "stream",
          "name": "stdout",
          "text": [
            "\u001b[?25l\r\u001b[K     |▏                               | 10 kB 35.4 MB/s eta 0:00:01\r\u001b[K     |▍                               | 20 kB 42.2 MB/s eta 0:00:01\r\u001b[K     |▋                               | 30 kB 46.3 MB/s eta 0:00:01\r\u001b[K     |▊                               | 40 kB 49.1 MB/s eta 0:00:01\r\u001b[K     |█                               | 51 kB 37.0 MB/s eta 0:00:01\r\u001b[K     |█▏                              | 61 kB 39.0 MB/s eta 0:00:01\r\u001b[K     |█▍                              | 71 kB 27.7 MB/s eta 0:00:01\r\u001b[K     |█▌                              | 81 kB 29.3 MB/s eta 0:00:01\r\u001b[K     |█▊                              | 92 kB 31.4 MB/s eta 0:00:01\r\u001b[K     |██                              | 102 kB 32.1 MB/s eta 0:00:01\r\u001b[K     |██                              | 112 kB 32.1 MB/s eta 0:00:01\r\u001b[K     |██▎                             | 122 kB 32.1 MB/s eta 0:00:01\r\u001b[K     |██▌                             | 133 kB 32.1 MB/s eta 0:00:01\r\u001b[K     |██▊                             | 143 kB 32.1 MB/s eta 0:00:01\r\u001b[K     |██▉                             | 153 kB 32.1 MB/s eta 0:00:01\r\u001b[K     |███                             | 163 kB 32.1 MB/s eta 0:00:01\r\u001b[K     |███▎                            | 174 kB 32.1 MB/s eta 0:00:01\r\u001b[K     |███▍                            | 184 kB 32.1 MB/s eta 0:00:01\r\u001b[K     |███▋                            | 194 kB 32.1 MB/s eta 0:00:01\r\u001b[K     |███▉                            | 204 kB 32.1 MB/s eta 0:00:01\r\u001b[K     |████                            | 215 kB 32.1 MB/s eta 0:00:01\r\u001b[K     |████▏                           | 225 kB 32.1 MB/s eta 0:00:01\r\u001b[K     |████▍                           | 235 kB 32.1 MB/s eta 0:00:01\r\u001b[K     |████▋                           | 245 kB 32.1 MB/s eta 0:00:01\r\u001b[K     |████▉                           | 256 kB 32.1 MB/s eta 0:00:01\r\u001b[K     |█████                           | 266 kB 32.1 MB/s eta 0:00:01\r\u001b[K     |█████▏                          | 276 kB 32.1 MB/s eta 0:00:01\r\u001b[K     |█████▍                          | 286 kB 32.1 MB/s eta 0:00:01\r\u001b[K     |█████▌                          | 296 kB 32.1 MB/s eta 0:00:01\r\u001b[K     |█████▊                          | 307 kB 32.1 MB/s eta 0:00:01\r\u001b[K     |██████                          | 317 kB 32.1 MB/s eta 0:00:01\r\u001b[K     |██████▏                         | 327 kB 32.1 MB/s eta 0:00:01\r\u001b[K     |██████▎                         | 337 kB 32.1 MB/s eta 0:00:01\r\u001b[K     |██████▌                         | 348 kB 32.1 MB/s eta 0:00:01\r\u001b[K     |██████▊                         | 358 kB 32.1 MB/s eta 0:00:01\r\u001b[K     |██████▉                         | 368 kB 32.1 MB/s eta 0:00:01\r\u001b[K     |███████                         | 378 kB 32.1 MB/s eta 0:00:01\r\u001b[K     |███████▎                        | 389 kB 32.1 MB/s eta 0:00:01\r\u001b[K     |███████▌                        | 399 kB 32.1 MB/s eta 0:00:01\r\u001b[K     |███████▋                        | 409 kB 32.1 MB/s eta 0:00:01\r\u001b[K     |███████▉                        | 419 kB 32.1 MB/s eta 0:00:01\r\u001b[K     |████████                        | 430 kB 32.1 MB/s eta 0:00:01\r\u001b[K     |████████▎                       | 440 kB 32.1 MB/s eta 0:00:01\r\u001b[K     |████████▍                       | 450 kB 32.1 MB/s eta 0:00:01\r\u001b[K     |████████▋                       | 460 kB 32.1 MB/s eta 0:00:01\r\u001b[K     |████████▉                       | 471 kB 32.1 MB/s eta 0:00:01\r\u001b[K     |█████████                       | 481 kB 32.1 MB/s eta 0:00:01\r\u001b[K     |█████████▏                      | 491 kB 32.1 MB/s eta 0:00:01\r\u001b[K     |█████████▍                      | 501 kB 32.1 MB/s eta 0:00:01\r\u001b[K     |█████████▋                      | 512 kB 32.1 MB/s eta 0:00:01\r\u001b[K     |█████████▊                      | 522 kB 32.1 MB/s eta 0:00:01\r\u001b[K     |██████████                      | 532 kB 32.1 MB/s eta 0:00:01\r\u001b[K     |██████████▏                     | 542 kB 32.1 MB/s eta 0:00:01\r\u001b[K     |██████████▎                     | 552 kB 32.1 MB/s eta 0:00:01\r\u001b[K     |██████████▌                     | 563 kB 32.1 MB/s eta 0:00:01\r\u001b[K     |██████████▊                     | 573 kB 32.1 MB/s eta 0:00:01\r\u001b[K     |███████████                     | 583 kB 32.1 MB/s eta 0:00:01\r\u001b[K     |███████████                     | 593 kB 32.1 MB/s eta 0:00:01\r\u001b[K     |███████████▎                    | 604 kB 32.1 MB/s eta 0:00:01\r\u001b[K     |███████████▌                    | 614 kB 32.1 MB/s eta 0:00:01\r\u001b[K     |███████████▋                    | 624 kB 32.1 MB/s eta 0:00:01\r\u001b[K     |███████████▉                    | 634 kB 32.1 MB/s eta 0:00:01\r\u001b[K     |████████████                    | 645 kB 32.1 MB/s eta 0:00:01\r\u001b[K     |████████████▎                   | 655 kB 32.1 MB/s eta 0:00:01\r\u001b[K     |████████████▍                   | 665 kB 32.1 MB/s eta 0:00:01\r\u001b[K     |████████████▋                   | 675 kB 32.1 MB/s eta 0:00:01\r\u001b[K     |████████████▉                   | 686 kB 32.1 MB/s eta 0:00:01\r\u001b[K     |█████████████                   | 696 kB 32.1 MB/s eta 0:00:01\r\u001b[K     |█████████████▏                  | 706 kB 32.1 MB/s eta 0:00:01\r\u001b[K     |█████████████▍                  | 716 kB 32.1 MB/s eta 0:00:01\r\u001b[K     |█████████████▋                  | 727 kB 32.1 MB/s eta 0:00:01\r\u001b[K     |█████████████▊                  | 737 kB 32.1 MB/s eta 0:00:01\r\u001b[K     |██████████████                  | 747 kB 32.1 MB/s eta 0:00:01\r\u001b[K     |██████████████▏                 | 757 kB 32.1 MB/s eta 0:00:01\r\u001b[K     |██████████████▍                 | 768 kB 32.1 MB/s eta 0:00:01\r\u001b[K     |██████████████▌                 | 778 kB 32.1 MB/s eta 0:00:01\r\u001b[K     |██████████████▊                 | 788 kB 32.1 MB/s eta 0:00:01\r\u001b[K     |███████████████                 | 798 kB 32.1 MB/s eta 0:00:01\r\u001b[K     |███████████████                 | 808 kB 32.1 MB/s eta 0:00:01\r\u001b[K     |███████████████▎                | 819 kB 32.1 MB/s eta 0:00:01\r\u001b[K     |███████████████▌                | 829 kB 32.1 MB/s eta 0:00:01\r\u001b[K     |███████████████▊                | 839 kB 32.1 MB/s eta 0:00:01\r\u001b[K     |███████████████▉                | 849 kB 32.1 MB/s eta 0:00:01\r\u001b[K     |████████████████                | 860 kB 32.1 MB/s eta 0:00:01\r\u001b[K     |████████████████▎               | 870 kB 32.1 MB/s eta 0:00:01\r\u001b[K     |████████████████▌               | 880 kB 32.1 MB/s eta 0:00:01\r\u001b[K     |████████████████▋               | 890 kB 32.1 MB/s eta 0:00:01\r\u001b[K     |████████████████▉               | 901 kB 32.1 MB/s eta 0:00:01\r\u001b[K     |█████████████████               | 911 kB 32.1 MB/s eta 0:00:01\r\u001b[K     |█████████████████▏              | 921 kB 32.1 MB/s eta 0:00:01\r\u001b[K     |█████████████████▍              | 931 kB 32.1 MB/s eta 0:00:01\r\u001b[K     |█████████████████▋              | 942 kB 32.1 MB/s eta 0:00:01\r\u001b[K     |█████████████████▉              | 952 kB 32.1 MB/s eta 0:00:01\r\u001b[K     |██████████████████              | 962 kB 32.1 MB/s eta 0:00:01\r\u001b[K     |██████████████████▏             | 972 kB 32.1 MB/s eta 0:00:01\r\u001b[K     |██████████████████▍             | 983 kB 32.1 MB/s eta 0:00:01\r\u001b[K     |██████████████████▌             | 993 kB 32.1 MB/s eta 0:00:01\r\u001b[K     |██████████████████▊             | 1.0 MB 32.1 MB/s eta 0:00:01\r\u001b[K     |███████████████████             | 1.0 MB 32.1 MB/s eta 0:00:01\r\u001b[K     |███████████████████▏            | 1.0 MB 32.1 MB/s eta 0:00:01\r\u001b[K     |███████████████████▎            | 1.0 MB 32.1 MB/s eta 0:00:01\r\u001b[K     |███████████████████▌            | 1.0 MB 32.1 MB/s eta 0:00:01\r\u001b[K     |███████████████████▊            | 1.1 MB 32.1 MB/s eta 0:00:01\r\u001b[K     |███████████████████▉            | 1.1 MB 32.1 MB/s eta 0:00:01\r\u001b[K     |████████████████████            | 1.1 MB 32.1 MB/s eta 0:00:01\r\u001b[K     |████████████████████▎           | 1.1 MB 32.1 MB/s eta 0:00:01\r\u001b[K     |████████████████████▌           | 1.1 MB 32.1 MB/s eta 0:00:01\r\u001b[K     |████████████████████▋           | 1.1 MB 32.1 MB/s eta 0:00:01\r\u001b[K     |████████████████████▉           | 1.1 MB 32.1 MB/s eta 0:00:01\r\u001b[K     |█████████████████████           | 1.1 MB 32.1 MB/s eta 0:00:01\r\u001b[K     |█████████████████████▎          | 1.1 MB 32.1 MB/s eta 0:00:01\r\u001b[K     |█████████████████████▍          | 1.1 MB 32.1 MB/s eta 0:00:01\r\u001b[K     |█████████████████████▋          | 1.2 MB 32.1 MB/s eta 0:00:01\r\u001b[K     |█████████████████████▉          | 1.2 MB 32.1 MB/s eta 0:00:01\r\u001b[K     |██████████████████████          | 1.2 MB 32.1 MB/s eta 0:00:01\r\u001b[K     |██████████████████████▏         | 1.2 MB 32.1 MB/s eta 0:00:01\r\u001b[K     |██████████████████████▍         | 1.2 MB 32.1 MB/s eta 0:00:01\r\u001b[K     |██████████████████████▋         | 1.2 MB 32.1 MB/s eta 0:00:01\r\u001b[K     |██████████████████████▊         | 1.2 MB 32.1 MB/s eta 0:00:01\r\u001b[K     |███████████████████████         | 1.2 MB 32.1 MB/s eta 0:00:01\r\u001b[K     |███████████████████████▏        | 1.2 MB 32.1 MB/s eta 0:00:01\r\u001b[K     |███████████████████████▎        | 1.2 MB 32.1 MB/s eta 0:00:01\r\u001b[K     |███████████████████████▌        | 1.3 MB 32.1 MB/s eta 0:00:01\r\u001b[K     |███████████████████████▊        | 1.3 MB 32.1 MB/s eta 0:00:01\r\u001b[K     |████████████████████████        | 1.3 MB 32.1 MB/s eta 0:00:01\r\u001b[K     |████████████████████████        | 1.3 MB 32.1 MB/s eta 0:00:01\r\u001b[K     |████████████████████████▎       | 1.3 MB 32.1 MB/s eta 0:00:01\r\u001b[K     |████████████████████████▌       | 1.3 MB 32.1 MB/s eta 0:00:01\r\u001b[K     |████████████████████████▊       | 1.3 MB 32.1 MB/s eta 0:00:01\r\u001b[K     |████████████████████████▉       | 1.3 MB 32.1 MB/s eta 0:00:01\r\u001b[K     |█████████████████████████       | 1.3 MB 32.1 MB/s eta 0:00:01\r\u001b[K     |█████████████████████████▎      | 1.4 MB 32.1 MB/s eta 0:00:01\r\u001b[K     |█████████████████████████▍      | 1.4 MB 32.1 MB/s eta 0:00:01\r\u001b[K     |█████████████████████████▋      | 1.4 MB 32.1 MB/s eta 0:00:01\r\u001b[K     |█████████████████████████▉      | 1.4 MB 32.1 MB/s eta 0:00:01\r\u001b[K     |██████████████████████████      | 1.4 MB 32.1 MB/s eta 0:00:01\r\u001b[K     |██████████████████████████▏     | 1.4 MB 32.1 MB/s eta 0:00:01\r\u001b[K     |██████████████████████████▍     | 1.4 MB 32.1 MB/s eta 0:00:01\r\u001b[K     |██████████████████████████▋     | 1.4 MB 32.1 MB/s eta 0:00:01\r\u001b[K     |██████████████████████████▊     | 1.4 MB 32.1 MB/s eta 0:00:01\r\u001b[K     |███████████████████████████     | 1.4 MB 32.1 MB/s eta 0:00:01\r\u001b[K     |███████████████████████████▏    | 1.5 MB 32.1 MB/s eta 0:00:01\r\u001b[K     |███████████████████████████▍    | 1.5 MB 32.1 MB/s eta 0:00:01\r\u001b[K     |███████████████████████████▌    | 1.5 MB 32.1 MB/s eta 0:00:01\r\u001b[K     |███████████████████████████▊    | 1.5 MB 32.1 MB/s eta 0:00:01\r\u001b[K     |████████████████████████████    | 1.5 MB 32.1 MB/s eta 0:00:01\r\u001b[K     |████████████████████████████▏   | 1.5 MB 32.1 MB/s eta 0:00:01\r\u001b[K     |████████████████████████████▎   | 1.5 MB 32.1 MB/s eta 0:00:01\r\u001b[K     |████████████████████████████▌   | 1.5 MB 32.1 MB/s eta 0:00:01\r\u001b[K     |████████████████████████████▊   | 1.5 MB 32.1 MB/s eta 0:00:01\r\u001b[K     |████████████████████████████▉   | 1.5 MB 32.1 MB/s eta 0:00:01\r\u001b[K     |█████████████████████████████   | 1.6 MB 32.1 MB/s eta 0:00:01\r\u001b[K     |█████████████████████████████▎  | 1.6 MB 32.1 MB/s eta 0:00:01\r\u001b[K     |█████████████████████████████▌  | 1.6 MB 32.1 MB/s eta 0:00:01\r\u001b[K     |█████████████████████████████▋  | 1.6 MB 32.1 MB/s eta 0:00:01\r\u001b[K     |█████████████████████████████▉  | 1.6 MB 32.1 MB/s eta 0:00:01\r\u001b[K     |██████████████████████████████  | 1.6 MB 32.1 MB/s eta 0:00:01\r\u001b[K     |██████████████████████████████▏ | 1.6 MB 32.1 MB/s eta 0:00:01\r\u001b[K     |██████████████████████████████▍ | 1.6 MB 32.1 MB/s eta 0:00:01\r\u001b[K     |██████████████████████████████▋ | 1.6 MB 32.1 MB/s eta 0:00:01\r\u001b[K     |██████████████████████████████▉ | 1.6 MB 32.1 MB/s eta 0:00:01\r\u001b[K     |███████████████████████████████ | 1.7 MB 32.1 MB/s eta 0:00:01\r\u001b[K     |███████████████████████████████▏| 1.7 MB 32.1 MB/s eta 0:00:01\r\u001b[K     |███████████████████████████████▍| 1.7 MB 32.1 MB/s eta 0:00:01\r\u001b[K     |███████████████████████████████▌| 1.7 MB 32.1 MB/s eta 0:00:01\r\u001b[K     |███████████████████████████████▊| 1.7 MB 32.1 MB/s eta 0:00:01\r\u001b[K     |████████████████████████████████| 1.7 MB 32.1 MB/s eta 0:00:01\r\u001b[K     |████████████████████████████████| 1.7 MB 32.1 MB/s \n",
            "\u001b[K     |████████████████████████████████| 97 kB 9.0 MB/s \n",
            "\u001b[K     |████████████████████████████████| 180 kB 73.7 MB/s \n",
            "\u001b[K     |████████████████████████████████| 142 kB 70.2 MB/s \n",
            "\u001b[K     |████████████████████████████████| 63 kB 2.1 MB/s \n",
            "\u001b[?25h  Building wheel for subprocess32 (setup.py) ... \u001b[?25l\u001b[?25hdone\n",
            "  Building wheel for pathtools (setup.py) ... \u001b[?25l\u001b[?25hdone\n"
          ]
        }
      ]
    },
    {
      "cell_type": "code",
      "source": [
        "# Log in to your W&B account\n",
        "wandb.login()"
      ],
      "metadata": {
        "colab": {
          "base_uri": "https://localhost:8080/",
          "height": 69
        },
        "id": "wvwDGh7dI-k-",
        "outputId": "4be3f40c-2f98-49f4-e6ce-ccbcce4478ed"
      },
      "id": "wvwDGh7dI-k-",
      "execution_count": 6,
      "outputs": [
        {
          "output_type": "display_data",
          "data": {
            "application/javascript": [
              "\n",
              "        window._wandbApiKey = new Promise((resolve, reject) => {\n",
              "            function loadScript(url) {\n",
              "            return new Promise(function(resolve, reject) {\n",
              "                let newScript = document.createElement(\"script\");\n",
              "                newScript.onerror = reject;\n",
              "                newScript.onload = resolve;\n",
              "                document.body.appendChild(newScript);\n",
              "                newScript.src = url;\n",
              "            });\n",
              "            }\n",
              "            loadScript(\"https://cdn.jsdelivr.net/npm/postmate/build/postmate.min.js\").then(() => {\n",
              "            const iframe = document.createElement('iframe')\n",
              "            iframe.style.cssText = \"width:0;height:0;border:none\"\n",
              "            document.body.appendChild(iframe)\n",
              "            const handshake = new Postmate({\n",
              "                container: iframe,\n",
              "                url: 'https://wandb.ai/authorize'\n",
              "            });\n",
              "            const timeout = setTimeout(() => reject(\"Couldn't auto authenticate\"), 5000)\n",
              "            handshake.then(function(child) {\n",
              "                child.on('authorize', data => {\n",
              "                    clearTimeout(timeout)\n",
              "                    resolve(data)\n",
              "                });\n",
              "            });\n",
              "            })\n",
              "        });\n",
              "    "
            ],
            "text/plain": [
              "<IPython.core.display.Javascript object>"
            ]
          },
          "metadata": {}
        },
        {
          "output_type": "stream",
          "name": "stderr",
          "text": [
            "\u001b[34m\u001b[1mwandb\u001b[0m: Appending key for api.wandb.ai to your netrc file: /root/.netrc\n"
          ]
        },
        {
          "output_type": "execute_result",
          "data": {
            "text/plain": [
              "True"
            ]
          },
          "metadata": {},
          "execution_count": 6
        }
      ]
    },
    {
      "cell_type": "code",
      "execution_count": 7,
      "id": "6b6d6899",
      "metadata": {
        "colab": {
          "base_uri": "https://localhost:8080/"
        },
        "id": "6b6d6899",
        "outputId": "1cbf0ed1-f065-4105-9039-3dc8f9e4b657"
      },
      "outputs": [
        {
          "output_type": "stream",
          "name": "stdout",
          "text": [
            "Namespace(batch_size=64, cuda='True', data_dir='../drive/MyDrive/Master/Data/aia_171_2018_b_256', epochs=10000, freeze_resnet=256, head_layer=2, lr=0.03, model_dir='models', optim='sgd', pretrained=True, test_epochs=10, variant='normal', wave_length='171', workers=8)\n",
            "using device: cuda\n",
            "training AIA 171\n",
            "\u001b[34m\u001b[1mwandb\u001b[0m: Currently logged in as: \u001b[33mmariusgiger\u001b[0m (use `wandb login --relogin` to force relogin)\n",
            "\u001b[34m\u001b[1mwandb\u001b[0m: Tracking run with wandb version 0.12.9\n",
            "\u001b[34m\u001b[1mwandb\u001b[0m: Syncing run \u001b[33mfallen-forest-2\u001b[0m\n",
            "\u001b[34m\u001b[1mwandb\u001b[0m: ⭐️ View project at \u001b[34m\u001b[4mhttps://wandb.ai/mariusgiger/pytorch-cutpaste\u001b[0m\n",
            "\u001b[34m\u001b[1mwandb\u001b[0m: 🚀 View run at \u001b[34m\u001b[4mhttps://wandb.ai/mariusgiger/pytorch-cutpaste/runs/3f97plvx\u001b[0m\n",
            "\u001b[34m\u001b[1mwandb\u001b[0m: Run data is saved locally in /content/pytorch-cutpaste/wandb/run-20220114_143154-3f97plvx\n",
            "\u001b[34m\u001b[1mwandb\u001b[0m: Run `wandb offline` to turn off syncing.\n",
            "\n",
            "loading images\n",
            "loaded 640 images\n",
            "/usr/local/lib/python3.7/dist-packages/torch/utils/data/dataloader.py:481: UserWarning: This DataLoader will create 8 worker processes in total. Our suggested max number of worker in current system is 2, which is smaller than what this DataLoader is going to create. Please be aware that excessive worker creation might get DataLoader running slow or even freeze, lower the worker number to avoid potential slowness/freeze if necessary.\n",
            "  cpuset_checked))\n",
            "Downloading: \"https://download.pytorch.org/models/resnet18-f37072fd.pth\" to /root/.cache/torch/hub/checkpoints/resnet18-f37072fd.pth\n",
            "100% 44.7M/44.7M [00:00<00:00, 135MB/s]\n",
            "100% 10000/10000 [1:54:05<00:00,  1.46it/s]\n",
            "\n",
            "\u001b[34m\u001b[1mwandb\u001b[0m: Waiting for W&B process to finish, PID 412... (success).\n",
            "\u001b[34m\u001b[1mwandb\u001b[0m:                                                                                \n",
            "\u001b[34m\u001b[1mwandb\u001b[0m: Synced 5 W&B file(s), 0 media file(s), 0 artifact file(s) and 0 other file(s)\n",
            "\u001b[34m\u001b[1mwandb\u001b[0m: Synced \u001b[33mfallen-forest-2\u001b[0m: \u001b[34mhttps://wandb.ai/mariusgiger/pytorch-cutpaste/runs/3f97plvx\u001b[0m\n",
            "\u001b[34m\u001b[1mwandb\u001b[0m: Find logs at: ./wandb/run-20220114_143154-3f97plvx/logs/debug.log\n",
            "\u001b[34m\u001b[1mwandb\u001b[0m: \n"
          ]
        }
      ],
      "source": [
        "!python run_training_sdo.py --wave_length=171 --model_dir models --cuda True --head_layer 2 --data_dir ../drive/MyDrive/Master/Data/aia_171_2018_b_256 --epochs 10000 --freeze_resnet 256 --variant normal"
      ]
    },
    {
      "cell_type": "code",
      "source": [
        "!cp -R ./models/ \"/content/drive/MyDrive/Master/Models/$(date +%Y_%m_%d_%H_%M_%S)\""
      ],
      "metadata": {
        "colab": {
          "base_uri": "https://localhost:8080/"
        },
        "id": "zfmKs9uCgbtA",
        "outputId": "a2e5d001-59e9-4c4c-bf05-7ed57cb18ede"
      },
      "id": "zfmKs9uCgbtA",
      "execution_count": 21,
      "outputs": [
        {
          "output_type": "stream",
          "name": "stdout",
          "text": [
            "/content/drive/MyDrive/Master/Models/2022_01_14_16_59_40\n"
          ]
        }
      ]
    },
    {
      "cell_type": "code",
      "execution_count": null,
      "id": "ff402ae2",
      "metadata": {
        "id": "ff402ae2",
        "outputId": "42eedce0-1678-459e-dfff-5d9acd495c82"
      },
      "outputs": [
        {
          "name": "stdout",
          "output_type": "stream",
          "text": [
            "Collecting grad-cam\n",
            "  Downloading grad-cam-1.3.5.tar.gz (1.8 MB)\n",
            "\u001b[K     |████████████████████████████████| 1.8 MB 631 kB/s eta 0:00:01\n",
            "\u001b[?25h  Installing build dependencies ... \u001b[?25ldone\n",
            "\u001b[?25h  Getting requirements to build wheel ... \u001b[?25ldone\n",
            "\u001b[?25h    Preparing wheel metadata ... \u001b[?25ldone\n",
            "\u001b[?25hCollecting opencv-python>=4.1torch>=1.4\n",
            "  Downloading opencv_python-4.5.4.58-cp39-cp39-macosx_10_15_x86_64.whl (45.5 MB)\n",
            "\u001b[K     |████████████████████████████████| 45.5 MB 1.7 MB/s eta 0:00:01\n",
            "\u001b[?25hRequirement already satisfied: tqdm>=4.42 in ./.venv/lib/python3.9/site-packages (from grad-cam) (4.62.3)\n",
            "Requirement already satisfied: torchvision>=0.5 in ./.venv/lib/python3.9/site-packages (from grad-cam) (0.10.1)\n",
            "Collecting ttach>=0.0.3\n",
            "  Downloading ttach-0.0.3-py3-none-any.whl (9.8 kB)\n",
            "Requirement already satisfied: numpy>=1.19.3 in ./.venv/lib/python3.9/site-packages (from opencv-python>=4.1torch>=1.4->grad-cam) (1.21.2)\n",
            "Requirement already satisfied: torch==1.9.1 in ./.venv/lib/python3.9/site-packages (from torchvision>=0.5->grad-cam) (1.9.1)\n",
            "Requirement already satisfied: pillow>=5.3.0 in ./.venv/lib/python3.9/site-packages (from torchvision>=0.5->grad-cam) (8.3.2)\n",
            "Requirement already satisfied: typing-extensions in ./.venv/lib/python3.9/site-packages (from torch==1.9.1->torchvision>=0.5->grad-cam) (3.10.0.2)\n",
            "Building wheels for collected packages: grad-cam\n",
            "  Building wheel for grad-cam (PEP 517) ... \u001b[?25ldone\n",
            "\u001b[?25h  Created wheel for grad-cam: filename=grad_cam-1.3.5-py3-none-any.whl size=22419 sha256=13b0d0a14d1c1bc236aa32d90ca238aecebf08f835a3fe413b3838bbecbb1143\n",
            "  Stored in directory: /Users/mariusgiger/Library/Caches/pip/wheels/e6/a2/73/564b397e26e7064d784fd0429cc9b93921133a53d1ecb9fc0d\n",
            "Successfully built grad-cam\n",
            "Installing collected packages: ttach, opencv-python, grad-cam\n",
            "Successfully installed grad-cam-1.3.5 opencv-python-4.5.4.58 ttach-0.0.3\n",
            "\u001b[33mWARNING: You are using pip version 21.2.4; however, version 21.3.1 is available.\n",
            "You should consider upgrading via the '/Users/mariusgiger/repos/master/pytorch-cutpaste/.venv/bin/python -m pip install --upgrade pip' command.\u001b[0m\n"
          ]
        }
      ],
      "source": [
        "!pip install grad-cam"
      ]
    },
    {
      "cell_type": "code",
      "source": [
        "!python3 cam.py --model_path /content/pytorch-cutpaste/models/model-171-2022-01-11_17_42_56.tch --dataset SDO --image-path \"/content/drive/MyDrive/Master/Data/aia_171_2018_b_256/test/2012-02-21T000000__171.jpeg\""
      ],
      "metadata": {
        "colab": {
          "base_uri": "https://localhost:8080/"
        },
        "id": "mCiBioKSHixE",
        "outputId": "ccb8925d-cf5c-4fa1-dc87-e997edc89769"
      },
      "id": "mCiBioKSHixE",
      "execution_count": null,
      "outputs": [
        {
          "output_type": "stream",
          "name": "stdout",
          "text": [
            "Using CPU for computation\n",
            "loading model /content/pytorch-cutpaste/models/model-171-2022-01-11_17_42_56.tch\n",
            "torch.Size([1, 3, 224, 224])\n"
          ]
        }
      ]
    },
    {
      "cell_type": "markdown",
      "id": "c8b9a93e",
      "metadata": {
        "id": "c8b9a93e"
      },
      "source": [
        "## Links\n",
        "\n",
        "- https://www.mvtec.com/company/research/datasets/mvtec-ad\n",
        "- https://github.com/Runinho/pytorch-cutpaste"
      ]
    }
  ],
  "metadata": {
    "accelerator": "GPU",
    "colab": {
      "name": "Train.ipynb",
      "provenance": []
    },
    "kernelspec": {
      "display_name": "Python (cutpaste)",
      "language": "python",
      "name": "cutpaste"
    },
    "language_info": {
      "codemirror_mode": {
        "name": "ipython",
        "version": 3
      },
      "file_extension": ".py",
      "mimetype": "text/x-python",
      "name": "python",
      "nbconvert_exporter": "python",
      "pygments_lexer": "ipython3",
      "version": "3.9.9"
    }
  },
  "nbformat": 4,
  "nbformat_minor": 5
}